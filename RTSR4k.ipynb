{
  "nbformat": 4,
  "nbformat_minor": 0,
  "metadata": {
    "colab": {
      "name": "RTSR4k.ipynb",
      "provenance": [],
      "collapsed_sections": [],
      "toc_visible": true,
      "include_colab_link": true
    },
    "kernelspec": {
      "name": "python3",
      "display_name": "Python 3"
    },
    "accelerator": "GPU"
  },
  "cells": [
    {
      "cell_type": "markdown",
      "metadata": {
        "id": "view-in-github",
        "colab_type": "text"
      },
      "source": [
        "<a href=\"https://colab.research.google.com/github/gemenerik/RTSR4k/blob/master/RTSR4k.ipynb\" target=\"_parent\"><img src=\"https://colab.research.google.com/assets/colab-badge.svg\" alt=\"Open In Colab\"/></a>"
      ]
    },
    {
      "cell_type": "markdown",
      "metadata": {
        "id": "_Mas32TsNIQ3",
        "colab_type": "text"
      },
      "source": [
        "![](https://github.com/gemenerik/RTSR4k/blob/master/baboon_logo.png?raw=true)\n",
        "#RTSR4k Reproducability Project\n",
        "**Delft University of Technology**\n",
        "\n",
        "Deep Learning (CS4240)\n",
        "\n",
        "Rik Bouwmeester,\n",
        "Lotte Mulder,\n",
        "Jort Groen,\n",
        "Jim Smit\n",
        "***\n",
        "\n",
        "**Goal**\n",
        "\n",
        "To reproduce the results of the paper 'Real-Time Single Image and Video Super-Resolution Using an Efﬁcient Sub-Pixel Convolutional Neural Network' by Shi et al. (2016)\n",
        "***\n",
        "\n",
        "**Results to reproduce**\n",
        "\n",
        "**Table 1**: Results, quantified in mean PSNR (dB), on diffferent test sets using the novel network proposed by the authors: efﬁcient sub-pixel convolutional neural network (ESPCN).\n",
        "***\n",
        "\n",
        "Train dataset: \n",
        "\n",
        "> T91\n",
        "\n",
        "Test datasets:\n",
        "1. Set5\n",
        "2. Set14\n",
        "3. BSD300\n",
        "4. BSD500\n",
        "5. SuperTexture\n",
        "***\n",
        "\n",
        "### Introduction\n",
        "\n",
        "Currently, super resolution (SR), the recovery of high resolution (HR) images from low resolution (LR) images, is of big interest in the area of digital image processing. To super-resolve a LR image into HR space, it is necessary to increase the resolution of the LR image to match that of the HR image at some point. The state-of-the-art methods for super resolving images scale a LR image to a HR image before or at the first layer of the network [2, 3, 4] or increase the resolution gradually in the middle of the network [5]. However, this increases the computational complexity. Furthermore, the bicubic interpolation method, which is mostly used for upscaling in this type of task, does not give additional information.\n",
        "\n",
        "The authors of this paper propose a new method, which is a convolutional neural network (CNN) in which the increase in resolution (from LR to HR) is only performed at the end of the network. This is done by a sub-pixel convolutional layer in which the filters are learned. The authors show that this new method achieves state-of-the-art results and that it is one order of magnitude faster. \n",
        "\n",
        "In this blogpost, we explain how we reproduced the results in Table 1 of the paper 'Real-Time Single Image and Video Super-Resolution Using an Efﬁcient Sub-Pixel Convolutional Neural Network' by Shi et al. (2016). The reproduction was done from scratch in Google Colab with the use of PyTorch.\n",
        "\n",
        "The code used in this project is inspired by:\n",
        "https://github.com/leftthomas/ESPCN\n",
        "\n",
        "***\n",
        "\n",
        "\n",
        "\n",
        "\n"
      ]
    },
    {
      "cell_type": "markdown",
      "metadata": {
        "id": "sxwLEJb4zBh8",
        "colab_type": "text"
      },
      "source": [
        "### Hyperparameters\n",
        "\n",
        "Section 3.2.: Implementation details\n",
        "\n",
        "'To synthesize the low-resolution samples,we blur using a **Gaussian ﬁlter** and sub-sample it by the **upscaling factor**.'\n",
        "\n"
      ]
    },
    {
      "cell_type": "markdown",
      "metadata": {
        "id": "Y4s1PGEiRmI_",
        "colab_type": "text"
      },
      "source": [
        "#### Code"
      ]
    },
    {
      "cell_type": "code",
      "metadata": {
        "id": "3P20arN6PRcu",
        "colab_type": "code",
        "outputId": "f09526e4-dce5-4737-f85a-ecfb97014985",
        "colab": {
          "base_uri": "https://localhost:8080/",
          "height": 182
        }
      },
      "source": [
        "#@title Clear data & clone the GitHub repository {display-mode: \"form\"}\n",
        "import os\n",
        "\n",
        "%cd\n",
        "os.chdir(\"/content/\")\n",
        "!sudo rm -r RTSR4k\n",
        "!git clone https://github.com/gemenerik/RTSR4k\n",
        "\n",
        "os.chdir('RTSR4k/data')\n",
        "# os.mkdir('val')\n",
        "os.chdir('..')"
      ],
      "execution_count": 0,
      "outputs": [
        {
          "output_type": "stream",
          "text": [
            "/root\n",
            "rm: cannot remove 'RTSR4k': No such file or directory\n",
            "Cloning into 'RTSR4k'...\n",
            "remote: Enumerating objects: 642, done.\u001b[K\n",
            "remote: Counting objects: 100% (642/642), done.\u001b[K\n",
            "remote: Compressing objects: 100% (610/610), done.\u001b[K\n",
            "remote: Total 754 (delta 48), reused 604 (delta 21), pack-reused 112\u001b[K\n",
            "Receiving objects: 100% (754/754), 55.70 MiB | 26.53 MiB/s, done.\n",
            "Resolving deltas: 100% (56/56), done.\n"
          ],
          "name": "stdout"
        }
      ]
    },
    {
      "cell_type": "code",
      "metadata": {
        "id": "pL0O6FKRQbXC",
        "colab_type": "code",
        "colab": {}
      },
      "source": [
        "import argparse\n",
        "import numpy as np\n",
        "import os\n",
        "import pylab as pl\n",
        "import torch.optim\n",
        "import cv2\n",
        "\n",
        "from cv2 import imread, PSNR\n",
        "from IPython import display\n",
        "from PIL import Image, ImageFilter\n",
        "from torch import sigmoid, tanh, nn\n",
        "from torch.autograd import Variable\n",
        "from torch.utils.data.dataset import Dataset\n",
        "from torch.utils.data.sampler import SubsetRandomSampler\n",
        "from torchvision.transforms import Compose, CenterCrop, Scale, ToTensor\n",
        "from tqdm import tqdm"
      ],
      "execution_count": 0,
      "outputs": []
    },
    {
      "cell_type": "code",
      "metadata": {
        "id": "8xZu00nIzDK_",
        "colab_type": "code",
        "cellView": "both",
        "colab": {}
      },
      "source": [
        "# Tuneable params\n",
        "UPSCALE_FACTOR = 3 #@param {type:\"slider\", min:1, max:5, step:1}\n",
        "GAUSSIAN_BLUR_RADIUS = 0.25 #@param {type:\"slider\", min:0, max:2, step:0.01}\n",
        "SUBSAMPLING_STRIDE_SIZE = 14\n",
        "SUBSAMPLING_SAMPLE_SIZE = 17\n",
        "\n",
        "# Set learning parameters\n",
        "no_learning_threshold = 1e-8  # threshold for stopping training when no improvement has been made for 'repeats' epochs\n",
        "                              # Referred to in the paper as 'mu'\n",
        "repeats = 100 # the number of consecutive epochs without (enough) improvement necessary to stop training \n",
        "\n",
        "# Define test sets\n",
        "test_sets = ['Set5', 'Set14', 'BSD300', 'BSD500']"
      ],
      "execution_count": 0,
      "outputs": []
    },
    {
      "cell_type": "markdown",
      "metadata": {
        "id": "zIF1VNIBUpwv",
        "colab_type": "text"
      },
      "source": [
        "***"
      ]
    },
    {
      "cell_type": "markdown",
      "metadata": {
        "id": "YOwKZDYrQ3Ls",
        "colab_type": "text"
      },
      "source": [
        "### Network\n",
        "\n",
        "From within the YCbCr colour space of a LR image, the luminance channel (Y) is passed through 3 convolutional layers. Hereafter, a “sub-pixel convolution layer” is applied that merges the different output channels into one high resolution image. The HR image can be seen as an image with a resolution equal to LR where every pixel is composed of multiple “sub-pixels”. The sub-pixels are composed out of r^2 different output channels, obtained from the last convolutional layer. This way, the HR image is enlarged by a factor r."
      ]
    },
    {
      "cell_type": "markdown",
      "metadata": {
        "id": "7VlS1PB1Rsag",
        "colab_type": "text"
      },
      "source": [
        "#### Code"
      ]
    },
    {
      "cell_type": "code",
      "metadata": {
        "id": "ptnX1jErQ5Us",
        "colab_type": "code",
        "colab": {}
      },
      "source": [
        "class Net(nn.Module):\n",
        "    def __init__(self, upscale_factor):\n",
        "        super(Net, self).__init__()\n",
        "        self.conv1 = nn.Conv2d(1, 64, (5, 5), (1, 1), (2, 2))\n",
        "        self.conv2 = nn.Conv2d(64, 32, (3, 3), (1, 1), (1, 1))\n",
        "        self.conv3 = nn.Conv2d(32, 1 * (upscale_factor ** 2), (3, 3), (1, 1), (1, 1))\n",
        "        self.pixel_shuffle = nn.PixelShuffle(upscale_factor)\n",
        "\n",
        "    def forward(self, x):\n",
        "        x = tanh(self.conv1(x))\n",
        "        x = tanh(self.conv2(x))\n",
        "        x = sigmoid(self.pixel_shuffle(self.conv3(x)))\n",
        "        return x"
      ],
      "execution_count": 0,
      "outputs": []
    },
    {
      "cell_type": "markdown",
      "metadata": {
        "id": "Q2sbw3vNUr1I",
        "colab_type": "text"
      },
      "source": [
        "***"
      ]
    },
    {
      "cell_type": "markdown",
      "metadata": {
        "id": "nIABOHU_N96I",
        "colab_type": "text"
      },
      "source": [
        "### Data processing \n",
        "\n",
        "Generate train, test and validation datasets given the set Upscaling factor. \n",
        "\n",
        "Before images are passed through the network, they are first converted from RGB to YCbCr. In the YCbCr colourspace, both the low and high resolution images share the Cb and Cr channel (the blue-difference and red-difference chroma components). This way, only the Y (luminance) channel has to be passed through the network. The autors used this trick to decrease the size of the inputs and therewith be able to increase the speed of the network.\n",
        "\n",
        "All images are split into 17r by 17r subimages, where r is the upscale factor, using a stride of 14. This results in the HR data. Next, downscaling with a factor r results in the LR data."
      ]
    },
    {
      "cell_type": "markdown",
      "metadata": {
        "id": "yURSbe6QSWzf",
        "colab_type": "text"
      },
      "source": [
        "#### Code"
      ]
    },
    {
      "cell_type": "code",
      "metadata": {
        "id": "4GyABraQtd_E",
        "colab_type": "code",
        "outputId": "e53d5a79-2b02-4d80-f877-1f974b74b27e",
        "colab": {
          "base_uri": "https://localhost:8080/",
          "height": 109
        }
      },
      "source": [
        "import math\n",
        "from torchvision.transforms import Resize\n",
        "\n",
        "def is_image_file(filename):\n",
        "    return any(filename.endswith(extension) for extension in ['.png', '.jpg', '.jpeg', '.JPG', '.JPEG', '.PNG', '.bmp'])\n",
        "\n",
        "\n",
        "def calculate_valid_crop_size(crop_size, upscale_factor):\n",
        "    return crop_size - (crop_size % upscale_factor)\n",
        "\n",
        "\n",
        "def blur(img):\n",
        "    return img.filter(ImageFilter.GaussianBlur(GAUSSIAN_BLUR_RADIUS))\n",
        "\n",
        "\n",
        "def input_transform(size):\n",
        "    return Compose([Resize(size), blur])\n",
        "\n",
        "\n",
        "def target_transform(crop_size):\n",
        "    return Compose([CenterCrop(crop_size)])\n",
        "\n",
        "\n",
        "def sub_image_generation(image, upscale_factor):\n",
        "    subsample_size = SUBSAMPLING_SAMPLE_SIZE * upscale_factor\n",
        "    subsample_stride = SUBSAMPLING_STRIDE_SIZE * upscale_factor\n",
        "    subsamples = []\n",
        "    for y in range(math.floor((image.shape[0] - (subsample_size - subsample_stride)) / subsample_stride)):\n",
        "        for x in range(math.floor((image.shape[1] - (subsample_size - subsample_stride)) / subsample_stride)):\n",
        "            ss = image[(y * subsample_stride):(y * subsample_stride) + subsample_size,\n",
        "                 (x * subsample_stride):(x * subsample_stride) + subsample_size]\n",
        "            subsamples.append(ss)\n",
        "\n",
        "    return subsamples\n",
        "\n",
        "\n",
        "class DatasetFromFolder(Dataset):\n",
        "    def __init__(self, dataset_dir, upscale_factor, input_transform=None, target_transform=None):\n",
        "        super(DatasetFromFolder, self).__init__()\n",
        "        self.image_dir = dataset_dir + '/scaling_factor_' + str(upscale_factor) + '/data'\n",
        "        self.target_dir = dataset_dir + '/scaling_factor_' + str(upscale_factor) + '/target'\n",
        "        self.image_filenames = [os.path.join(self.image_dir, x) for x in os.listdir(self.image_dir) if is_image_file(x)]\n",
        "        self.target_filenames = [os.path.join(self.target_dir, x) for x in os.listdir(self.target_dir) if is_image_file(x)]\n",
        "        print(os.listdir(self.target_dir))\n",
        "        print(self.target_filenames)\n",
        "        self.input_transform = input_transform\n",
        "        self.target_transform = target_transform\n",
        "\n",
        "    def __getitem__(self, index):\n",
        "        image, _, _ = Image.open(self.image_filenames[index]).convert('YCbCr').split()\n",
        "        target, _, _ = Image.open(self.target_filenames[index]).convert('YCbCr').split()\n",
        "        if self.input_transform:\n",
        "            image = self.input_transform(image)\n",
        "        if self.target_transform:\n",
        "            target = self.target_transform(target)\n",
        "\n",
        "        return image, target\n",
        "\n",
        "    def __len__(self):\n",
        "        return len(self.image_filenames)\n",
        "\n",
        "\n",
        "def generate_dataset(data_type, upscale_factor, data_target):\n",
        "    images_name = [x for x in os.listdir('data/' + data_type) if is_image_file(x)]\n",
        "\n",
        "    root = 'data/' + data_target\n",
        "    if not os.path.exists(root):\n",
        "        os.makedirs(root)\n",
        "    path = root + '/scaling_factor_' + str(upscale_factor)\n",
        "    if not os.path.exists(path):\n",
        "        os.makedirs(path)\n",
        "    image_path = path + '/data'\n",
        "    if not os.path.exists(image_path):\n",
        "        os.makedirs(image_path)\n",
        "    target_path = path + '/target'\n",
        "    if not os.path.exists(target_path):\n",
        "        os.makedirs(target_path)\n",
        "    temp_path = 'data/' + 'temp'\n",
        "    if not os.path.exists(temp_path):\n",
        "        os.makedirs(temp_path)\n",
        "\n",
        "    patch_dimension_list = []\n",
        "    for image_name in tqdm(images_name, desc='generate ' + data_type + ' dataset with upscale factor = '\n",
        "            + str(upscale_factor) + ' from dataset'):\n",
        "        image = Image.open('data/' + data_type + '/' + image_name)\n",
        "        extension = os.path.splitext(image_name)[1]\n",
        "        if not extension == '.jpg': # convert all to jpg\n",
        "            image_name = image_name.replace(extension, '.jpg')\n",
        "            image.save('data/' + 'temp' + '/' + image_name)\n",
        "            image = Image.open('data/' + 'temp' + '/' + image_name)\n",
        "            image_np = imread('data/' + 'temp' + '/' + image_name)\n",
        "        else:\n",
        "            image_np = imread('data/' + data_type + '/' + image_name)\n",
        "            # image.save('')\n",
        "\n",
        "        # image.save('data/' + data_type + '/' + image_name)\n",
        "\n",
        "\n",
        "        subsamples = sub_image_generation(image_np, UPSCALE_FACTOR)\n",
        "        # target = blur(target)\n",
        "        for i in range(0, len(subsamples)):\n",
        "            extension = os.path.splitext(image_name)[1]\n",
        "            img = Image.fromarray(subsamples[i], 'RGB')\n",
        "            image_name_new = image_name.replace(extension, '_' + str(i) + extension)\n",
        "            # print(extension, image_name_new)\n",
        "            # img.save(image_path + '/' + image_name_new)\n",
        "            img.save(target_path + '/' + image_name_new)\n",
        "            size = img.size\n",
        "            size = tuple(s // UPSCALE_FACTOR for s in size)\n",
        "            lr_transform = input_transform(size)\n",
        "            image_lr = lr_transform(img)\n",
        "            image_lr.save(image_path + '/' + image_name_new)\n",
        "\n",
        "if __name__ == \"__main__\":\n",
        "    parser = argparse.ArgumentParser(description='Generate Super Resolution Dataset')\n",
        "    parser.add_argument('--upscale_factor', default=100, type=int, help='super resolution upscale factor')\n",
        "\n",
        "    generate_dataset(data_type='original_data/train', upscale_factor=UPSCALE_FACTOR, data_target='train')\n",
        "    for i in test_sets:\n",
        "      generate_dataset(data_type='original_data/test/' + i, upscale_factor=UPSCALE_FACTOR, data_target='test/'+i)\n",
        "      # generate_dataset(data_type='val', upscale_factor=UPSCALE_FACTOR, data_target='val')\n",
        "      # val set is made in train"
      ],
      "execution_count": 0,
      "outputs": [
        {
          "output_type": "stream",
          "text": [
            "generate original_data/train dataset with upscale factor = 3 from dataset: 100%|██████████| 91/91 [00:01<00:00, 53.73it/s]\n",
            "generate original_data/test/Set5 dataset with upscale factor = 3 from dataset: 100%|██████████| 5/5 [00:00<00:00, 29.14it/s]\n",
            "generate original_data/test/Set14 dataset with upscale factor = 3 from dataset: 100%|██████████| 14/14 [00:01<00:00, 13.73it/s]\n",
            "generate original_data/test/BSD300 dataset with upscale factor = 3 from dataset: 100%|██████████| 100/100 [00:04<00:00, 23.33it/s]\n",
            "generate original_data/test/BSD500 dataset with upscale factor = 3 from dataset: 100%|██████████| 200/200 [00:08<00:00, 23.14it/s]\n"
          ],
          "name": "stderr"
        }
      ]
    },
    {
      "cell_type": "markdown",
      "metadata": {
        "id": "IHx3GxodUtq1",
        "colab_type": "text"
      },
      "source": [
        "***"
      ]
    },
    {
      "cell_type": "markdown",
      "metadata": {
        "id": "n3grncVwQmpK",
        "colab_type": "text"
      },
      "source": [
        "### Train\n",
        "\n",
        "1. Create the Neural Network (Net)\n",
        "2. Try to run on cuda device (GPU) if available\n",
        "3. Load the saved train and test sets\n",
        "4. Choose training cirterion, optimizer and number of epochs\n",
        "5. Train the Network and visualize the loss over the epochs"
      ]
    },
    {
      "cell_type": "markdown",
      "metadata": {
        "id": "F-ldvp3oSnNV",
        "colab_type": "text"
      },
      "source": [
        "#### Code"
      ]
    },
    {
      "cell_type": "code",
      "metadata": {
        "id": "cM0Lj3K5tqqQ",
        "colab_type": "code",
        "colab": {}
      },
      "source": [
        "if __name__ == \"__main__\":\n",
        "    # Define path to save the model to\n",
        "    PATH = './Trained_' + str(GAUSSIAN_BLUR_RADIUS) + '.pth'\n",
        "\n",
        "    # gauss_range = np.linspace(0.001, 1, num=10)\n",
        "\n",
        "    # Run the functions to generate the datasets: Train, test and val\n",
        "    # generate_dataset(data_type='original_data/train', upscale_factor=UPSCALE_FACTOR, data_target='train')\n",
        "\n",
        "    # 1. Create the Neural Network (Net)\n",
        "    net = Net(upscale_factor=UPSCALE_FACTOR)\n",
        "    print(net)\n",
        "    print('Start training Net with sigma: ', GAUSSIAN_BLUR_RADIUS)\n",
        "    \n",
        "    # 2. Try to run on cuda device (GPU) if available\n",
        "    device = torch.device('cuda' if torch.cuda.is_available() else 'cpu')\n",
        "    print('Running on', device)\n",
        "    if device == 'cuda':\n",
        "        net.cuda()\n",
        "    transform = Compose([\n",
        "        # you can add other transformations in this list\n",
        "        ToTensor()\n",
        "    ])\n",
        "\n",
        "    # 3. Load the saved train set\n",
        "\n",
        "    trainset = DatasetFromFolder('data/train', upscale_factor=UPSCALE_FACTOR, input_transform=ToTensor(),\n",
        "                                 target_transform=ToTensor())\n",
        "\n",
        "    # Assign 0.05 share of the training data to the validation set\n",
        "    validation_split = 0.05\n",
        "    shuffle_dataset = True\n",
        "    random_seed = 42\n",
        "\n",
        "    # Creating data indices for training and validation splits:\n",
        "    dataset_size = len(trainset)\n",
        "    indices = list(range(dataset_size))\n",
        "\n",
        "    val_len = int(np.floor(validation_split * dataset_size))\n",
        "    validation_idx = np.random.choice(indices, size=val_len, replace=False)\n",
        "    train_idx = list(set(indices) - set(validation_idx))\n",
        "\n",
        "    if shuffle_dataset:\n",
        "        np.random.seed(random_seed)\n",
        "        np.random.shuffle(indices)\n",
        "    train_indices, val_indices = indices[val_len:], indices[:val_len]\n",
        "\n",
        "    # Creating PT data samplers and loaders:\n",
        "    train_sampler = SubsetRandomSampler(train_indices)\n",
        "    valid_sampler = SubsetRandomSampler(val_indices)\n",
        "\n",
        "    trainloader = torch.utils.data.DataLoader(trainset, batch_size=2, num_workers=2,\n",
        "                                              sampler=train_sampler)\n",
        "\n",
        "    valloader = torch.utils.data.DataLoader(trainset, batch_size=2,\n",
        "                                            num_workers=2,\n",
        "                                            sampler=valid_sampler)\n",
        "\n",
        "    data_loaders = {\"train\": trainloader, \"val\": valloader}\n",
        "    data_lengths = {\"train\": len(train_idx), \"val\": val_len}\n",
        "\n",
        "    # print('training images: ', data_lengths['train'], 'validation images: ', data_lengths['val'])\n",
        "    # 4. Choose training cirterion, optimizer and number of epochs\n",
        "\n",
        "    criterion = nn.MSELoss()\n",
        "    optimizer = torch.optim.Adam(net.parameters(), lr=1e-4)\n",
        "    number_of_epochs = NUMBER_OF_EPOCHS\n",
        "\n",
        "    \" train net \"\n",
        "    epochs = []\n",
        "    train_losses = []\n",
        "    val_losses = []\n",
        "\n",
        "    # scheduler = torch.optim.lr_scheduler.StepLR(optimizer, step_size=10, gamma=0.5)  # learning rate decay\n",
        "\n",
        "    # 5. Train the Network untill the improvement in loss is marginal for at least 50 epochs\n",
        "\n",
        "\n",
        "    best_train_loss = float(\"inf\")  # start with dummy value for best train loss\n",
        "    epoch = 0\n",
        "    # for epoch in range(number_of_epochs):  # loop over the dataset multiple times\n",
        "        # if epoch % 10 == 1:\n",
        "        #     print('Epoch {}/{}'.format(epoch, number_of_epochs - 1))\n",
        "            # print('lr: ' + str(scheduler.get_lr()))\n",
        "\n",
        "    while True:  # loop over the dataset multiple times\n",
        "\n",
        "        for phase in ['train', 'val']:\n",
        "          if phase == 'train':\n",
        "              net.train(True)  # Set model to training mode\n",
        "          else:\n",
        "              net.train(False)  # Set model to evaluate mode\n",
        "\n",
        "          running_loss = 0.0      # reset both losses\n",
        "\n",
        "          for i, data in enumerate(data_loaders[phase], 0):\n",
        "\n",
        "            # get the inputs; data is a list of [inputs, labels]\n",
        "            inputs, labels = data\n",
        "\n",
        "            # zero the parameter gradients\n",
        "            optimizer.zero_grad()\n",
        "\n",
        "            # forward + backward + optimize\n",
        "            outputs = net(inputs)\n",
        "\n",
        "            loss = criterion(outputs, labels)\n",
        "\n",
        "            if phase == 'train':\n",
        "                loss.backward()\n",
        "                optimizer.step()\n",
        "\n",
        "            running_loss = + loss.item() * outputs.shape[0]\n",
        "          if phase == 'train':\n",
        "            train_losses.append(running_loss)\n",
        "            epoch_train_loss = running_loss\n",
        "          else:\n",
        "            val_losses.append(running_loss)\n",
        "            epoch_val_loss = running_loss\n",
        "\n",
        "        # if epoch % 10 == 1:\n",
        "        #     print('{} Loss: {:.4f}'.format(phase, running_loss))\n",
        "\n",
        "        improvement = best_train_loss - epoch_train_loss\n",
        "\n",
        "        if improvement > 0:  # save best model, 'best' meaning lowest loss on test set\n",
        "            best_train_loss = epoch_train_loss\n",
        "            print('overwiting the model')\n",
        "            torch.save(net.state_dict(), PATH)  # overwrite best model so the best model filename doesn't change\n",
        "            # update best epcoh and best epoch loss\n",
        "            best_epoch = epoch\n",
        "            best_epoch_train_loss = epoch_train_loss\n",
        "\n",
        "        # stop training if no improvement has been made for 'repeats' epochs\n",
        "            print(\"epoch \" + str(epoch + 1) + ': \\n training loss: ', epoch_train_loss, '\\n validation loss: ', epoch_val_loss, '\\n improvement = ' + str(improvement))\n",
        "          \n",
        "            if improvement < no_learning_threshold:\n",
        "                ni_counter += 1\n",
        "                print('Number of epochs with no or marginal loss improvement: ',ni_counter)\n",
        "            else:\n",
        "                ni_counter = 0\n",
        "        else:\n",
        "          ni_counter += 1\n",
        "          print('Number of epochs with no or marginal loss improvement: ',ni_counter)\n",
        "\n",
        "        if ni_counter >= repeats:\n",
        "            break\n",
        "        else:\n",
        "          epoch = epoch + 1\n",
        "\n",
        "        epochs.append(epoch + 1)\n",
        "\n",
        "    pl.figure()\n",
        "    pl.plot(epochs, train_losses[1:], '-b')\n",
        "    pl.xlabel('epochs')\n",
        "    pl.ylabel('training loss, sigma = ' + str(GAUSSIAN_BLUR_RADIUS))\n",
        "\n",
        "\n",
        "    pl.figure()\n",
        "    pl.plot(epochs, val_losses[1:], 'r')\n",
        "    pl.xlabel('epochs')\n",
        "    pl.ylabel('Validation loss, sigma = ' + str(GAUSSIAN_BLUR_RADIUS))\n",
        "\n",
        "\n",
        "    print('Finished Training')\n",
        "    print('Best loss at epoch ', best_epoch, 'with loss of ', best_epoch_train_loss)\n",
        "    \" save \"\n",
        "    # torch.save(net.state_dict(), PATH)"
      ],
      "execution_count": 0,
      "outputs": []
    },
    {
      "cell_type": "code",
      "metadata": {
        "id": "AwUpTKSklykq",
        "colab_type": "code",
        "outputId": "f5b77f31-d244-4a7b-da26-39a87039b731",
        "colab": {
          "base_uri": "https://localhost:8080/",
          "height": 279
        }
      },
      "source": [
        "pl.figure()\n",
        "pl.plot(epochs, train_losses[1:], '-b')\n",
        "pl.plot(epochs, val_losses[1:], 'r')\n",
        "pl.xlabel('epochs')\n",
        "pl.ylabel('training loss, sigma = ' + str(GAUSSIAN_BLUR_RADIUS))\n",
        "pl.legend(['training loss', 'validation loss'])\n",
        "pl.yscale('log')"
      ],
      "execution_count": 0,
      "outputs": [
        {
          "output_type": "display_data",
          "data": {
            "image/png": "[encoded data removed]",
            "text/plain": [
              "<Figure size 432x288 with 1 Axes>"
            ]
          },
          "metadata": {
            "tags": [],
            "needs_background": "light"
          }
        }
      ]
    },
    {
      "cell_type": "markdown",
      "metadata": {
        "id": "gagTudgHUwC6",
        "colab_type": "text"
      },
      "source": [
        "***"
      ]
    },
    {
      "cell_type": "markdown",
      "metadata": {
        "id": "EXUINVVrOy4m",
        "colab_type": "text"
      },
      "source": [
        "### Results\n",
        "\n",
        "In the paper, the *PSNR* is used as a quality measurement between the original and a compressed image. The higher the *PSNR*, the better the quality of the compressed, or reconstructed image.\n",
        "\n",
        "Derivation:\n",
        "\n",
        "$$ MSE = \\frac{\\sum_{M,N} [Image_1(m,n) - Image_2(m,n)]^{2}}{M*N}$$\n",
        "\n",
        "$$ PNSR = 10*log{10}( \\frac{R^{2}}{MSE})$$\n",
        "\n",
        "Where R is the maximum fluctuation in the input image data type. For example, if the input image has a double-precision floating-point data type, then R is 1. If it has an 8-bit unsigned integer data type, R is 255, etc The PNSR function of cv2 package is used."
      ]
    },
    {
      "cell_type": "markdown",
      "metadata": {
        "id": "h01yjxHQS8cP",
        "colab_type": "text"
      },
      "source": [
        "#### Code"
      ]
    },
    {
      "cell_type": "code",
      "metadata": {
        "id": "J2v6Y9wnO2_Y",
        "colab_type": "code",
        "colab": {}
      },
      "source": [
        "test_results = []\n",
        "for test_set in test_sets:\n",
        "    print('\\n', 'Evaluating scores for: ', test_set)\n",
        "\n",
        "    # generate_dataset(data_type='original_data/test/' + test_set, upscale_factor=UPSCALE_FACTOR,\n",
        "    #                  data_target='test_' + test_set)\n",
        "\n",
        "    \" load nets for different sigma values \"\n",
        "    # gauss_range = np.linspace(0.001, 1, num=10)\n",
        "\n",
        "    means = []\n",
        "    PATH = './Trained_' + str(GAUSSIAN_BLUR_RADIUS) + '.pth'\n",
        "    net = Net(UPSCALE_FACTOR)\n",
        "    net.load_state_dict(torch.load(PATH))\n",
        "\n",
        "    i = UPSCALE_FACTOR\n",
        "    path = 'data/test/' + test_set + '/scaling_factor_%s/' % i  # Define test data path with correct scaling factor\n",
        "    # print(path)\n",
        "    image_list = os.listdir(path + '/data/')\n",
        "    print(image_list)\n",
        "    PSNR_list = []\n",
        "\n",
        "    count = 0\n",
        "    for j in image_list:\n",
        "        count = count + 1\n",
        "        img = Image.open(path + '/data/' + j).convert('YCbCr')  # Load low Res input image from the test data\n",
        "        y, cb, cr = img.split()  # Transform image into individual channels of the Ycbcr color space\n",
        "        image = Variable(ToTensor()(y)).view(1, -1, y.size[1], y.size[0]) # Transform to tensors\n",
        "\n",
        "        out = net(image)\n",
        "        out_img_y = out.data[0].numpy()\n",
        "        out_img_y *= 255.0\n",
        "        out_img_y = out_img_y.clip(0, 255)\n",
        "        out_img_y = Image.fromarray(np.uint8(out_img_y[0]), mode='L')\n",
        "        out_img_cb = cb.resize(out_img_y.size, Image.BICUBIC)\n",
        "        out_img_cr = cr.resize(out_img_y.size, Image.BICUBIC)\n",
        "        super_res_image = Image.merge('YCbCr', [out_img_y, out_img_cb, out_img_cr]).convert('RGB')\n",
        "        super_res_image.save('test.jpg')\n",
        "\n",
        "        # PSNR\n",
        "        original = imread(path + 'target/' + j)\n",
        "        contrast = imread('test.jpg', 1)\n",
        "        PSNR_list.append(PSNR(original, contrast))\n",
        "\n",
        "        if count == 1:\n",
        "            # print('RESULTS FOR SIGMA: ', str(GAUSSIAN_BLUR_RADIUS))\n",
        "            # review image\n",
        "            low_res_image = Image.open(path + 'data/' + j)\n",
        "            print('\\n The low res image (input in the Network): \\n')\n",
        "            display.display(low_res_image)\n",
        "            # low_res_image.show()\n",
        "            high_res_image = Image.open(path + 'target/' + j)  # Load High Res image from the target data\n",
        "            print('\\n High res image before downsacling (target): \\n')\n",
        "            display.display(high_res_image)\n",
        "            # upscaled image by bicubic interpolation\n",
        "            bicubic = low_res_image.resize(high_res_image.size)\n",
        "            print('\\n Upscaled image by Bicubic interpolation: \\n')\n",
        "            display.display(bicubic)\n",
        "            # high_res_image.show()\n",
        "            print('\\n Upscaled image using ESPCN trained Network (result): \\n')\n",
        "            display.display(super_res_image)\n",
        "            # super_res_image.show()\n",
        "            # input(\"Press Enter to continue...\")\n",
        "\n",
        "    # print('Peak Signal-to-Noise ratio between original (high res) and upscaled image by ESPCN:')\n",
        "    # for i in range(0, len(image_list)):\n",
        "    #   print(image_list[i], PSNR_list[i])\n",
        "    # print('\\n','Mean PSNR', mean(PSNR_list))\n",
        "    means.append(np.mean(PSNR_list))\n",
        "    test_results.append(np.mean(PSNR_list))\n",
        "    print('\\n', 'Test set:', test_set)\n",
        "    print('sigma: ', GAUSSIAN_BLUR_RADIUS, 'Mean PSNR: ', means)\n"
      ],
      "execution_count": 0,
      "outputs": []
    },
    {
      "cell_type": "code",
      "metadata": {
        "id": "3MfmXNccgsPe",
        "colab_type": "code",
        "outputId": "208d6497-c5d7-425d-9f7c-0099e3542663",
        "colab": {
          "base_uri": "https://localhost:8080/",
          "height": 109
        }
      },
      "source": [
        "import pandas as pd\n",
        "\n",
        "df = pd.DataFrame(index = test_sets, columns = ['Result by Shi et al. (PSNR)', 'Result by us (PSNR)'])\n",
        "df['Result by Shi et al. (PSNR)'] = [32.55, 29.08, 28.26, 28.34]\n",
        "df['Result by us (PSNR)'] = test_results\n",
        "\n",
        "print(df)"
      ],
      "execution_count": 0,
      "outputs": [
        {
          "output_type": "stream",
          "text": [
            "        Result by Shi et al. (PSNR)  Result by us (PSNR)\n",
            "Set5                          32.55            29.068198\n",
            "Set14                         29.08            26.458377\n",
            "BSD300                        28.26            26.593493\n",
            "BSD500                        28.34            26.944830\n"
          ],
          "name": "stdout"
        }
      ]
    },
    {
      "cell_type": "markdown",
      "metadata": {
        "id": "ZrSYtKht_qcB",
        "colab_type": "text"
      },
      "source": [
        "**Test on video**\n",
        "\n",
        "The video is loaded and passed through the network frame by frame the same way as the images. Hereafter, the new frames are assembled into the output video."
      ]
    },
    {
      "cell_type": "code",
      "metadata": {
        "id": "uM5O8JeUAQHw",
        "colab_type": "code",
        "colab": {}
      },
      "source": [
        "import torch\n",
        "from model import Net\n",
        "import cv2\n",
        "\n",
        "\" load net \"\n",
        "PATH = 'Trained.pth'\n",
        "net = Net(UPSCALE_FACTOR)\n",
        "net.load_state_dict(torch.load(PATH))\n",
        "device = torch.device('cuda' if torch.cuda.is_available() else 'cpu')\n",
        "print('Running on', device)\n",
        "if device == 'cuda':\n",
        "    net.cuda()\n",
        "\n",
        "path = 'data/original_data/test/video/'\n",
        "#video_name = 'samplevideo_small.mp4'\n",
        "video_name = 'SampleVideo.mp4'\n",
        "out_path = 'data/val/'\n",
        "\n",
        "videoCapture = cv2.VideoCapture(path + video_name)\n",
        "print()\n",
        "if cv2.VideoCapture.isOpened(videoCapture) == False:\n",
        "  print('error, could not open:',path+video_name)\n",
        "\n",
        "fps = videoCapture.get(cv2.CAP_PROP_FPS)\n",
        "size = (int(videoCapture.get(cv2.CAP_PROP_FRAME_WIDTH) * UPSCALE_FACTOR),\n",
        "        int(videoCapture.get(cv2.CAP_PROP_FRAME_HEIGHT)) * UPSCALE_FACTOR)\n",
        "output_name = out_path + video_name.split('.')[0] + '.avi'\n",
        "videoWriter = cv2.VideoWriter(output_name, cv2.VideoWriter_fourcc(*'MPEG'), fps, size)\n",
        "\n",
        "nrOfFrames = int(videoCapture.get(cv2.CAP_PROP_FRAME_COUNT))\n",
        "print('video has ',nrOfFrames,' frames')\n",
        "\n",
        "for i in tqdm(np.array(range(1,nrOfFrames+1))):\n",
        "\n",
        "  # capture new frame\n",
        "  success, frame = videoCapture.read()\n",
        "  if success == False:\n",
        "    print('error, could not read frame')\n",
        "    break\n",
        "\n",
        "  img = Image.fromarray(cv2.cvtColor(frame, cv2.COLOR_BGR2RGB)).convert('YCbCr')\n",
        "  y, cb, cr = img.split()\n",
        "  image = Variable(ToTensor()(y)).view(1, -1, y.size[1], y.size[0])\n",
        "  if device == 'cuda':\n",
        "    image = image.cuda()\n",
        "\n",
        "  out = net(image)\n",
        "  out = out.cpu()\n",
        "  out_img_y = out.data[0].numpy()\n",
        "  out_img_y *= 255.0\n",
        "  out_img_y = out_img_y.clip(0, 255)\n",
        "  out_img_y = Image.fromarray(np.uint8(out_img_y[0]), mode='L')\n",
        "  out_img_cb = cb.resize(out_img_y.size, Image.BICUBIC)\n",
        "  out_img_cr = cr.resize(out_img_y.size, Image.BICUBIC)\n",
        "  out_img = Image.merge('YCbCr', [out_img_y, out_img_cb, out_img_cr]).convert('RGB')\n",
        "  out_img = cv2.cvtColor(np.asarray(out_img), cv2.COLOR_RGB2BGR)\n",
        "\n",
        "  # save video\n",
        "  videoWriter.write(out_img)\n",
        "\n",
        "# finished\n",
        "videoCapture.release()\n",
        "videoWriter.release()\n",
        "print('\\nfinished, video written to:',output_name)"
      ],
      "execution_count": 0,
      "outputs": []
    },
    {
      "cell_type": "markdown",
      "metadata": {
        "id": "4bVSykYSU0aY",
        "colab_type": "text"
      },
      "source": [
        "***"
      ]
    },
    {
      "cell_type": "markdown",
      "metadata": {
        "id": "a7Y1EPXXIvzp",
        "colab_type": "text"
      },
      "source": [
        "### Discussion\n",
        "\n",
        "**Results**\n",
        "\n",
        "The results in table 1 show that the results achieved are significantly lower than the results of the paper. This can have multiple reasons. The authors were unclear about some hyperparameters used. For example, the LR image is Gaussian blurred before fed to the network. It is not stated what σ of the filter they used.\n",
        "Also, the authors didn’t state clear how the learning rate is updated. The following is mentioned in the paper: ‘Initial learning rate is set to 0.01 and ﬁnal learning rate is set to 0.0001 and updated gradually when the improvement of the cost function is smaller than a threshold µ.’ However, the value of µ is not mentioned. Therefore, we chose to implement a common learning rate decay method.\n",
        "\n",
        "Furthermore, it is not mentioned in the paper what data was used for validation. Therefor we decided to use a share of 5 % of the training set as validation data. The loss curves show the network converging after roughly 20 epoch. The validation loss decreases and does not increase again, which suggests that the network is not overfitting.\n",
        "\n",
        "**Future work**\n",
        "\n",
        "As this method can be used to upscale an image back and approach high resolution quality, it is interesting to see whether the same network could be used to create super resolution, i.e. 4k, by applying it to a high resolution image. This will be investigated in further research. \n",
        "\n"
      ]
    }
  ]
}